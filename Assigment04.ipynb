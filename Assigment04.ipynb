{
 "cells": [
  {
   "cell_type": "markdown",
   "id": "0562c763-64ca-4b8d-8163-5804c9d8e5da",
   "metadata": {},
   "source": [
    "## Q1"
   ]
  },
  {
   "cell_type": "raw",
   "id": "e14e6595-a9d2-4db9-8b82-b44f7e3fad2c",
   "metadata": {},
   "source": [
    "Q1. my_tuple = ( (1, 2, 3), [4, 5, 6], ('apple', 'banana', 'cherry'), [7, 8, 9] )\n",
    "• Print all elements from my_tuple on a new line (using for loop)\n",
    "• Create a new tuple by concatenating the first and last elements of my_tuple"
   ]
  },
  {
   "cell_type": "code",
   "execution_count": 3,
   "id": "34a06b41-1f14-41cc-a727-7eb3ea41f891",
   "metadata": {},
   "outputs": [
    {
     "name": "stdout",
     "output_type": "stream",
     "text": [
      "(1, 2, 3)\n",
      "[4, 5, 6]\n",
      "('apple', 'banana', 'cherry')\n",
      "[7, 8, 9]\n",
      "\n",
      "New tuple by concatenating the first and last elements:\n",
      "(1, 2, 3, 7, 8, 9)\n"
     ]
    }
   ],
   "source": [
    "my_tuple = ((1, 2, 3), [4, 5, 6], ('apple', 'banana', 'cherry'), [7, 8, 9])\n",
    "for i in my_tuple:\n",
    "    print(i)\n",
    "new_tuple = my_tuple[0] + tuple(my_tuple[-1])  \n",
    "print(\"\\nNew tuple by concatenating the first and last elements:\")\n",
    "print(new_tuple)\n"
   ]
  },
  {
   "cell_type": "markdown",
   "id": "6c959dd9-bfd9-4587-a0f5-a326afac747e",
   "metadata": {},
   "source": [
    "## Q2"
   ]
  },
  {
   "cell_type": "markdown",
   "id": "78b36f7c-5638-4a2e-93d2-c4b92ef002af",
   "metadata": {},
   "source": [
    "Q2. inventory = { \"The Great Gatsby\": {\"price\": 10.99, \"quantity\": 5}, \"Rich dad poor dad\": {\"price\":\n",
    "8.99, \"quantity\": 8}, \"Harry Potter\": {\"price\": 12.50, \"quantity\": 2}, }\n",
    "• Add a new book in inventory using method and get all book titles using method\n",
    "• Remove a book if it's out of stock\n"
   ]
  },
  {
   "cell_type": "code",
   "execution_count": 4,
   "id": "d6bf2c35-84d4-4f15-8221-66194e57a824",
   "metadata": {},
   "outputs": [
    {
     "name": "stdout",
     "output_type": "stream",
     "text": [
      "Book Titles: ['The Great Gatsby', 'Rich Dad Poor Dad', 'Harry Potter', '1984']\n",
      "Updated Inventory: {'The Great Gatsby': {'price': 10.99, 'quantity': 5}, 'Rich Dad Poor Dad': {'price': 8.99, 'quantity': 8}, 'Harry Potter': {'price': 12.5, 'quantity': 2}, '1984': {'price': 9.99, 'quantity': 3}}\n"
     ]
    }
   ],
   "source": [
    "class BookInventory:\n",
    "    def __init__(self):\n",
    "        self.inventory = {\n",
    "            \"The Great Gatsby\": {\"price\": 10.99, \"quantity\": 5},\n",
    "            \"Rich Dad Poor Dad\": {\"price\": 8.99, \"quantity\": 8},\n",
    "            \"Harry Potter\": {\"price\": 12.50, \"quantity\": 2},\n",
    "        }\n",
    "    \n",
    "    def add_book(self, title, price, quantity):\n",
    "        self.inventory[title] = {\"price\": price, \"quantity\": quantity}\n",
    "    \n",
    "    def get_all_titles(self):\n",
    "        return list(self.inventory.keys())\n",
    "    \n",
    "    def remove_out_of_stock_books(self):\n",
    "        self.inventory = {title: details for title, details in self.inventory.items() if details[\"quantity\"] > 0}\n",
    "inventory = BookInventory()\n",
    "inventory.add_book(\"1984\", 9.99, 3)\n",
    "print(\"Book Titles:\", inventory.get_all_titles())\n",
    "inventory.remove_out_of_stock_books()\n",
    "print(\"Updated Inventory:\", inventory.inventory)\n"
   ]
  },
  {
   "cell_type": "markdown",
   "id": "dd66b691-6f05-42c9-9f64-54e0ea72b6f7",
   "metadata": {},
   "source": [
    "## Q3"
   ]
  },
  {
   "cell_type": "raw",
   "id": "39ba162b-90fc-4c46-a1e8-231a102d7540",
   "metadata": {},
   "source": [
    "Q3. An ecommerce store stores information about its products in a nested dictionary. The outer\n",
    "dictionary uses product IDs as keys, and the inner dictionary stores product details like name,\n",
    "category, price, and stock quantity.\n",
    "products = { 101: {\"name\": \"Laptop\", \"category\": \"Electronics\", \"price\": 1200, \"stock\": 50}, 102:\n",
    "{\"name\": \"Shirt\", \"category\": \"Apparel\", \"price\": 25, \"stock\": 200}, 103: {\"name\": \"Coffee Maker\",\n",
    "\"category\": \"Home Appliances\", \"price\": 80, \"stock\": 30} }\n",
    "• Increase the stock of the \"Shirt\" product (add 50 more units)\n",
    "• Add a new product (e.g., \"Smartphone\")\n"
   ]
  },
  {
   "cell_type": "code",
   "execution_count": 8,
   "id": "4730a907-22de-4aa2-93ed-69ddc797beb3",
   "metadata": {},
   "outputs": [
    {
     "data": {
      "text/plain": [
       "{1: {'name': 'Laptop', 'category': 'Electronics', 'price': 1200, 'stock': 50},\n",
       " 2: {'name': 'Shirt', 'category': 'Apparel', 'price': 25, 'stock': 250},\n",
       " 3: {'name': 'Coffee Maker',\n",
       "  'category': 'Home Appliances',\n",
       "  'price': 80,\n",
       "  'stock': 30},\n",
       " 4: {'name': 'Computer', 'category': 'Electronics', 'price': 900, 'stock': 90}}"
      ]
     },
     "execution_count": 8,
     "metadata": {},
     "output_type": "execute_result"
    }
   ],
   "source": [
    "products = {\n",
    "    1: {\"name\": \"Laptop\", \"category\": \"Electronics\", \"price\": 1200, \"stock\": 50},\n",
    "    2: {\"name\": \"Shirt\", \"category\": \"Apparel\", \"price\": 25, \"stock\": 200},\n",
    "    3: {\"name\": \"Coffee Maker\", \"category\": \"Home Appliances\", \"price\": 80, \"stock\": 30}\n",
    "}\n",
    "\n",
    "products[2][\"stock\"] += 50\n",
    "\n",
    "products[4] = {\"name\": \"Computer\", \"category\": \"Electronics\", \"price\": 900, \"stock\": 90}\n",
    "\n",
    "products\n"
   ]
  },
  {
   "cell_type": "markdown",
   "id": "908ac8b0-c9e7-4e8a-a9c9-af430535eefb",
   "metadata": {},
   "source": [
    "## Q4"
   ]
  },
  {
   "cell_type": "raw",
   "id": "49ee6337-df41-4ebc-85ed-2c75606659a2",
   "metadata": {},
   "source": [
    "Q4. You are given a list that contains some duplicate items. Remove the duplicates by converting the\n",
    "list to a set.\n",
    "shopping_list = [\"apple\", \"banana\", \"apple\", \"orange\", \"banana\", \"grape\"]"
   ]
  },
  {
   "cell_type": "code",
   "execution_count": 1,
   "id": "9104f6d8-d3dd-4a98-bba7-76a26dd48c15",
   "metadata": {},
   "outputs": [
    {
     "name": "stdout",
     "output_type": "stream",
     "text": [
      "['banana', 'orange', 'grape', 'apple']\n"
     ]
    }
   ],
   "source": [
    "shopping_list = [\"apple\", \"banana\", \"apple\", \"orange\", \"banana\", \"grape\"]\n",
    "\n",
    "unique_items = set(shopping_list)\n",
    "\n",
    "unique_shopping_list= list(unique_items)\n",
    "\n",
    "print(unique_shopping_list)\n"
   ]
  },
  {
   "cell_type": "markdown",
   "id": "07613b31-c231-493d-b956-b7dfd7d33dd6",
   "metadata": {},
   "source": [
    "## Q5"
   ]
  },
  {
   "cell_type": "raw",
   "id": "c3b2ea48-88a5-4b8f-9bb1-94750e7e2cb9",
   "metadata": {},
   "source": [
    "Q5. You are managing a list of students enrolled in two different courses. You need to perform\n",
    "various set operations to understand the student enrollment. Task: Create two sets: one for students\n",
    "in \"Course A\" and one for students in \"Course B\". Find the students who are in \"Course A\" but not in\n",
    "\"Course B\" (difference). Find students who are only in one of the two courses (symmetric difference).\n",
    "course_a = {\"John\", \"Alice\", \"Bob\", \"David\"} course_b = {\"Alice\", \"Eve\", \"Charlie\", \"David\"}\n",
    "• Find students who are in Course A but not in Course B (difference)\n",
    "• Find students who are only in one of the two courses (symmetric difference)"
   ]
  },
  {
   "cell_type": "code",
   "execution_count": 2,
   "id": "dab71c70-d571-4a3a-a2c4-3c6525805179",
   "metadata": {},
   "outputs": [
    {
     "name": "stdout",
     "output_type": "stream",
     "text": [
      "Students in Course A but not in Course B: {'John', 'Bob'}\n",
      "Students only in one of the two courses: {'Eve', 'Charlie', 'Bob', 'John'}\n"
     ]
    }
   ],
   "source": [
    "course_a = {\"John\", \"Alice\", \"Bob\", \"David\"}\n",
    "course_b = {\"Alice\", \"Eve\", \"Charlie\", \"David\"}\n",
    "students_in_a_not_b = course_a - course_b\n",
    "print(\"Students in Course A but not in Course B:\", students_in_a_not_b )\n",
    "students_in_one_course_only = course_a ^ course_b\n",
    "print(\"Students only in one of the two courses:\", students_in_one_course_only)\n"
   ]
  },
  {
   "cell_type": "markdown",
   "id": "8041098f-18be-456e-8564-903852f2a569",
   "metadata": {},
   "source": [
    "## Q6"
   ]
  },
  {
   "cell_type": "raw",
   "id": "998eba3a-6091-4cd1-aa0e-33956e70f83a",
   "metadata": {},
   "source": [
    "Q6. Write a Python program that calculates the sum of all even numbers between 1 and 50\n",
    "(inclusive) using a for loop.\n",
    "\n",
    "1. Initialize a variable to hold the sum (e.g., sum_of_evens).\n",
    "2. Use a for loop to iterate through all numbers from 1 to 50.\n",
    "3. Inside the loop, check if the number is even.\n",
    "4. If the number is even, add it to sum_of_evens.\n",
    "5. After the loop finishes, print the total sum of all even numbers between 1 and 50.\n",
    "\n"
   ]
  },
  {
   "cell_type": "code",
   "execution_count": 3,
   "id": "0265dadd-732e-4840-b0b9-3c989c4687d4",
   "metadata": {},
   "outputs": [
    {
     "name": "stdout",
     "output_type": "stream",
     "text": [
      "The sum of all even numbers between 1 and 50 is: 650\n"
     ]
    }
   ],
   "source": [
    "sum_of_evens = 0\n",
    "for number in range(1, 51):\n",
    "    if number % 2 == 0:\n",
    "        sum_of_evens += number\n",
    "print(\"The sum of all even numbers between 1 and 50 is:\", sum_of_evens)\n"
   ]
  },
  {
   "cell_type": "markdown",
   "id": "47f853da-1b15-4070-b884-b1cf83692b50",
   "metadata": {},
   "source": [
    "## Q7"
   ]
  },
  {
   "cell_type": "raw",
   "id": "bbfb09ca-d97f-4a9e-b33c-b94290c1cfce",
   "metadata": {},
   "source": [
    "Q7. Write a Python program that prints the multiplication table for a given number (between 1 and\n",
    "10) using a for loop\n",
    "\n",
    "1. Ask the user for a number between 1 and 10 .\n",
    "2. Use a for loop to iterate through the numbers from 1 to 10.\n",
    "3. For each iteration, calculate the product of the given number and the current number in the\n",
    "loop.\n",
    "4. Print the result in a readable format (e.g., 5 x 1 = 5).\n",
    "5. Ensure the program works correctly for any number between 1 and 10."
   ]
  },
  {
   "cell_type": "code",
   "execution_count": 4,
   "id": "8a1f8f8b-feb0-4b23-b345-0fb9c8d70aa4",
   "metadata": {},
   "outputs": [
    {
     "name": "stdin",
     "output_type": "stream",
     "text": [
      "Enter a number between 1 and 10:  6\n"
     ]
    },
    {
     "name": "stdout",
     "output_type": "stream",
     "text": [
      "6 x 1 = 6\n",
      "6 x 2 = 12\n",
      "6 x 3 = 18\n",
      "6 x 4 = 24\n",
      "6 x 5 = 30\n",
      "6 x 6 = 36\n",
      "6 x 7 = 42\n",
      "6 x 8 = 48\n",
      "6 x 9 = 54\n",
      "6 x 10 = 60\n"
     ]
    }
   ],
   "source": [
    "number = int(input(\"Enter a number between 1 and 10: \")) \n",
    "if 1 <= number <= 10:\n",
    "    for i in range(1, 11):\n",
    "        product = number * i\n",
    "        print(f\"{number} x {i} = {product}\")\n",
    "else:\n",
    "    print(\"Please enter a valied number between 1 to 10.\")"
   ]
  },
  {
   "cell_type": "markdown",
   "id": "739ba297-87b7-4b79-9d3b-5fcfbd397bee",
   "metadata": {},
   "source": [
    "## Q8"
   ]
  },
  {
   "cell_type": "raw",
   "id": "3d166809-a326-4d87-9c22-6a21ce018186",
   "metadata": {},
   "source": [
    "Q8. Power of a Number\n",
    "Write a Python program that takes a number and prints the powers of the number (starting from 1 to\n",
    "10) using a while loop. For example, if the user inputs 3, the output should be:\n",
    "3^1 = 3\n",
    "3^2 = 9\n",
    "3^3 = 27\n",
    "... up to 3^10"
   ]
  },
  {
   "cell_type": "code",
   "execution_count": 5,
   "id": "8f625acd-2c94-4b08-8661-0d958e95fb13",
   "metadata": {},
   "outputs": [
    {
     "name": "stdin",
     "output_type": "stream",
     "text": [
      "Enter a number:  4\n"
     ]
    },
    {
     "name": "stdout",
     "output_type": "stream",
     "text": [
      "4^1 = 4\n",
      "4^2 = 16\n",
      "4^3 = 64\n",
      "4^4 = 256\n",
      "4^5 = 1024\n",
      "4^6 = 4096\n",
      "4^7 = 16384\n",
      "4^8 = 65536\n",
      "4^9 = 262144\n",
      "4^10 = 1048576\n"
     ]
    }
   ],
   "source": [
    "number = int(input(\"Enter a number: \"))\n",
    "i = 1\n",
    "while i <= 10:\n",
    "    power = number ** i\n",
    "    print(f\"{number}^{i} = {power}\")\n",
    "    i += 1\n"
   ]
  },
  {
   "cell_type": "markdown",
   "id": "b2af1f5a-2772-48fb-8e3e-73a184243346",
   "metadata": {},
   "source": [
    "## Q9"
   ]
  },
  {
   "cell_type": "raw",
   "id": "6ddd4169-afb0-41a8-9596-2ca67636c707",
   "metadata": {},
   "source": [
    "Q9. Problem Statement: Write a Python program that takes an integer input from the user and\n",
    "counts down from that number to 0. The program should display the current number at each step\n",
    "until it reaches 0, at which point it should print a message indicating the countdown is finished"
   ]
  },
  {
   "cell_type": "code",
   "execution_count": 6,
   "id": "80de839f-4900-4bc4-8561-aa941f4d436f",
   "metadata": {},
   "outputs": [
    {
     "name": "stdin",
     "output_type": "stream",
     "text": [
      "Enter a positive integer to start the countdown:  6\n"
     ]
    },
    {
     "name": "stdout",
     "output_type": "stream",
     "text": [
      "6\n",
      "5\n",
      "4\n",
      "3\n",
      "2\n",
      "1\n",
      "Countdown finished!\n"
     ]
    }
   ],
   "source": [
    "number = int(input(\"Enter a positive integer to start the countdown: \"))\n",
    "while number > 0:\n",
    "     print(number)\n",
    "     number -= 1\n",
    "print(\"Countdown finished!\")"
   ]
  },
  {
   "cell_type": "markdown",
   "id": "a90b647e-60ad-41ce-8fc3-47ae16f1455d",
   "metadata": {},
   "source": [
    "## Q10"
   ]
  },
  {
   "cell_type": "raw",
   "id": "133dd6f2-f154-4dd6-9c8c-88086d302527",
   "metadata": {},
   "source": [
    "Q10. Write a Python program that takes an integer input n from the user and generates a\n",
    "right-angled triangle pattern of stars (*) with n rows. The first row should contain 1 star, the second\n",
    "row 2 stars, the third row 3 stars, and so on until the nth row."
   ]
  },
  {
   "cell_type": "code",
   "execution_count": 4,
   "id": "7b23d76f-b570-4b32-ace5-0c8ecc9ba20a",
   "metadata": {},
   "outputs": [
    {
     "name": "stdin",
     "output_type": "stream",
     "text": [
      "Enter the number of rows for the triangle:  5\n"
     ]
    },
    {
     "name": "stdout",
     "output_type": "stream",
     "text": [
      "*\n",
      "**\n",
      "***\n",
      "****\n",
      "*****\n"
     ]
    }
   ],
   "source": [
    "n = int(input(\"Enter the number of rows for the triangle: \"))\n",
    "\n",
    "for i in range(1, n + 1):\n",
    "    print('*' * i)\n"
   ]
  },
  {
   "cell_type": "code",
   "execution_count": null,
   "id": "b62043c0-9061-4689-be10-a7d4b91e30c0",
   "metadata": {},
   "outputs": [],
   "source": []
  }
 ],
 "metadata": {
  "kernelspec": {
   "display_name": "Python 3 (ipykernel)",
   "language": "python",
   "name": "python3"
  },
  "language_info": {
   "codemirror_mode": {
    "name": "ipython",
    "version": 3
   },
   "file_extension": ".py",
   "mimetype": "text/x-python",
   "name": "python",
   "nbconvert_exporter": "python",
   "pygments_lexer": "ipython3",
   "version": "3.12.7"
  }
 },
 "nbformat": 4,
 "nbformat_minor": 5
}
